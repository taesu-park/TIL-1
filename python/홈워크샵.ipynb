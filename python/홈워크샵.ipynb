{
 "cells": [
  {
   "cell_type": "code",
   "execution_count": null,
   "metadata": {},
   "outputs": [],
   "source": [
    "n = 5\n",
    "m = 9\n",
    "star = ('*'*n + '\\n')*m\n",
    "print(star)"
   ]
  },
  {
   "cell_type": "code",
   "execution_count": 4,
   "metadata": {},
   "outputs": [
    {
     "name": "stdout",
     "output_type": "stream",
     "text": [
      "\"파일은 C:\\Windows\\Users\\내문서\\Python에 저장이 되어있습니다.\"\n",
      "나는 생각했다. 'cd를 써서 git bash로 들어가봐야지'\n"
     ]
    }
   ],
   "source": [
    "print('\\\"파일은 C:\\\\Windows\\\\Users\\\\내문서\\\\Python에 저장이 되어있습니다.\\\"\\n나는 생각했다. \\'cd를 써서 git bash로 들어가봐야지\\'')"
   ]
  },
  {
   "cell_type": "code",
   "execution_count": 6,
   "metadata": {},
   "outputs": [],
   "source": [
    "a = 1 \n",
    "b = 4\n",
    "c = -21"
   ]
  },
  {
   "cell_type": "code",
   "execution_count": 7,
   "metadata": {},
   "outputs": [
    {
     "name": "stdout",
     "output_type": "stream",
     "text": [
      "3.0\n",
      "-7.0\n"
     ]
    }
   ],
   "source": [
    "x1 = (-b + (b**2 - 4*a*c)**0.5)/(2*a)\n",
    "x2 = (-b - (b**2 - 4*a*c)**0.5)/(2*a)\n",
    "\n",
    "print(f'{x1}')\n",
    "print(f'{x2}')"
   ]
  },
  {
   "cell_type": "code",
   "execution_count": null,
   "metadata": {},
   "outputs": [],
   "source": [
    "False, None, True, import, and, or"
   ]
  },
  {
   "cell_type": "code",
   "execution_count": 12,
   "metadata": {},
   "outputs": [
    {
     "name": "stdout",
     "output_type": "stream",
     "text": [
      "['False', 'None', 'True', 'and', 'as', 'assert', 'async', 'await', 'break', 'class', 'continue', 'def', 'del', 'elif', 'else', 'except', 'finally', 'for', 'from', 'global', 'if', 'import', 'in', 'is', 'lambda', 'nonlocal', 'not', 'or', 'pass', 'raise', 'return', 'try', 'while', 'with', 'yield']\n"
     ]
    }
   ],
   "source": [
    "import keyword\n",
    "print(keyword.kwlist)"
   ]
  },
  {
   "cell_type": "code",
   "execution_count": 10,
   "metadata": {},
   "outputs": [
    {
     "name": "stdout",
     "output_type": "stream",
     "text": [
      "0.30000000000000004\n",
      "0.3\n"
     ]
    },
    {
     "data": {
      "text/plain": [
       "True"
      ]
     },
     "execution_count": 10,
     "metadata": {},
     "output_type": "execute_result"
    }
   ],
   "source": [
    "a = 0.1 * 3\n",
    "print(a)\n",
    "b = 0.3\n",
    "print(b)\n",
    "\n",
    "abs(a-b) <= 1e-10"
   ]
  },
  {
   "cell_type": "code",
   "execution_count": 13,
   "metadata": {},
   "outputs": [
    {
     "data": {
      "text/plain": [
       "True"
      ]
     },
     "execution_count": 13,
     "metadata": {},
     "output_type": "execute_result"
    }
   ],
   "source": [
    "import math\n",
    "math.isclose(a, b)"
   ]
  },
  {
   "cell_type": "code",
   "execution_count": 15,
   "metadata": {},
   "outputs": [
    {
     "name": "stdout",
     "output_type": "stream",
     "text": [
      "줄바꿈\n",
      "탭\t탭\n",
      "\\\n"
     ]
    }
   ],
   "source": [
    "print('줄바꿈\\n탭\\t탭\\n\\\\')"
   ]
  },
  {
   "cell_type": "code",
   "execution_count": 17,
   "metadata": {},
   "outputs": [
    {
     "name": "stdout",
     "output_type": "stream",
     "text": [
      "안녕, 철수야\n",
      "안녕, 철수야\n"
     ]
    }
   ],
   "source": [
    "name = \"철수\"\n",
    "print(f'안녕, {name}야')\n",
    "print('안녕, {}야'.format(name))"
   ]
  },
  {
   "cell_type": "code",
   "execution_count": null,
   "metadata": {},
   "outputs": [],
   "source": [
    "5"
   ]
  },
  {
   "cell_type": "code",
   "execution_count": 5,
   "metadata": {},
   "outputs": [
    {
     "data": {
      "text/plain": [
       "[1,\n",
       " 3,\n",
       " 5,\n",
       " 7,\n",
       " 9,\n",
       " 11,\n",
       " 13,\n",
       " 15,\n",
       " 17,\n",
       " 19,\n",
       " 21,\n",
       " 23,\n",
       " 25,\n",
       " 27,\n",
       " 29,\n",
       " 31,\n",
       " 33,\n",
       " 35,\n",
       " 37,\n",
       " 39,\n",
       " 41,\n",
       " 43,\n",
       " 45,\n",
       " 47,\n",
       " 49]"
      ]
     },
     "execution_count": 5,
     "metadata": {},
     "output_type": "execute_result"
    }
   ],
   "source": [
    "numbers = list(range(1, 51))\n",
    "numbers[0::2]"
   ]
  },
  {
   "cell_type": "code",
   "execution_count": 2,
   "metadata": {},
   "outputs": [
    {
     "data": {
      "text/plain": [
       "True"
      ]
     },
     "execution_count": 2,
     "metadata": {},
     "output_type": "execute_result"
    }
   ],
   "source": [
    "def palindrome(word):\n",
    "    # word 단어를 처음값 - 끝값 => len(word) // 2\n",
    "    for i in range(len(word)//2):\n",
    "        # 단어의 처음 - 끝을 비교해서 같으면,\n",
    "        if word[i] == word[-i-1]:\n",
    "            continue\n",
    "        # 다르면, 팰린드롬이 아니니까 False 리턴하고 더이상 확인하지 않는다.\n",
    "        else:\n",
    "            return False\n",
    "    # 다 끝나면, 팰린드롬이 맞으니까 True 리턴\n",
    "    return True\n",
    "palindrome('토마토')"
   ]
  },
  {
   "cell_type": "code",
   "execution_count": 3,
   "metadata": {},
   "outputs": [],
   "source": [
    "def palindrome(word):\n",
    "    for i in range(len(word)//2):\n",
    "        if word[i] != word[-i-1]:\n",
    "            return False\n",
    "    return True"
   ]
  },
  {
   "cell_type": "code",
   "execution_count": 4,
   "metadata": {},
   "outputs": [
    {
     "data": {
      "text/plain": [
       "True"
      ]
     },
     "execution_count": 4,
     "metadata": {},
     "output_type": "execute_result"
    }
   ],
   "source": [
    "palindrome('토마토')"
   ]
  },
  {
   "cell_type": "code",
   "execution_count": 15,
   "metadata": {},
   "outputs": [],
   "source": [
    "def palindrome(word):\n",
    "    if word == word[::-1]:\n",
    "        return True\n",
    "    else:\n",
    "        return False"
   ]
  },
  {
   "cell_type": "code",
   "execution_count": 18,
   "metadata": {},
   "outputs": [
    {
     "data": {
      "text/plain": [
       "True"
      ]
     },
     "execution_count": 18,
     "metadata": {},
     "output_type": "execute_result"
    }
   ],
   "source": [
    "palindrome('토마토')"
   ]
  },
  {
   "cell_type": "code",
   "execution_count": 17,
   "metadata": {},
   "outputs": [],
   "source": [
    "def palindrome(word):\n",
    "    return True if word == word[::-1] else False"
   ]
  },
  {
   "cell_type": "code",
   "execution_count": 19,
   "metadata": {},
   "outputs": [],
   "source": [
    "def palindrome(word):\n",
    "    return word == word[::-1]"
   ]
  },
  {
   "cell_type": "code",
   "execution_count": 22,
   "metadata": {},
   "outputs": [
    {
     "data": {
      "text/plain": [
       "True"
      ]
     },
     "execution_count": 22,
     "metadata": {},
     "output_type": "execute_result"
    }
   ],
   "source": [
    "palindrome('수박수박수')"
   ]
  },
  {
   "cell_type": "code",
   "execution_count": 10,
   "metadata": {},
   "outputs": [],
   "source": [
    "text = '토마!'"
   ]
  },
  {
   "cell_type": "code",
   "execution_count": 11,
   "metadata": {},
   "outputs": [
    {
     "data": {
      "text/plain": [
       "'!마토'"
      ]
     },
     "execution_count": 11,
     "metadata": {},
     "output_type": "execute_result"
    }
   ],
   "source": [
    "''.join(list(reversed(text)))"
   ]
  },
  {
   "cell_type": "code",
   "execution_count": 12,
   "metadata": {},
   "outputs": [
    {
     "data": {
      "text/plain": [
       "'!마토'"
      ]
     },
     "execution_count": 12,
     "metadata": {},
     "output_type": "execute_result"
    }
   ],
   "source": [
    "text[::-1]"
   ]
  },
  {
   "cell_type": "code",
   "execution_count": 13,
   "metadata": {},
   "outputs": [
    {
     "data": {
      "text/plain": [
       "[3, 2, 1]"
      ]
     },
     "execution_count": 13,
     "metadata": {},
     "output_type": "execute_result"
    }
   ],
   "source": [
    "[1, 2, 3][::-1]"
   ]
  },
  {
   "cell_type": "code",
   "execution_count": 14,
   "metadata": {},
   "outputs": [
    {
     "data": {
      "text/plain": [
       "(3, 2, 1)"
      ]
     },
     "execution_count": 14,
     "metadata": {},
     "output_type": "execute_result"
    }
   ],
   "source": [
    "(1, 2, 3)[::-1]"
   ]
  },
  {
   "cell_type": "code",
   "execution_count": 1,
   "metadata": {},
   "outputs": [
    {
     "data": {
      "text/plain": [
       "['ArithmeticError',\n",
       " 'AssertionError',\n",
       " 'AttributeError',\n",
       " 'BaseException',\n",
       " 'BlockingIOError',\n",
       " 'BrokenPipeError',\n",
       " 'BufferError',\n",
       " 'BytesWarning',\n",
       " 'ChildProcessError',\n",
       " 'ConnectionAbortedError',\n",
       " 'ConnectionError',\n",
       " 'ConnectionRefusedError',\n",
       " 'ConnectionResetError',\n",
       " 'DeprecationWarning',\n",
       " 'EOFError',\n",
       " 'Ellipsis',\n",
       " 'EnvironmentError',\n",
       " 'Exception',\n",
       " 'False',\n",
       " 'FileExistsError',\n",
       " 'FileNotFoundError',\n",
       " 'FloatingPointError',\n",
       " 'FutureWarning',\n",
       " 'GeneratorExit',\n",
       " 'IOError',\n",
       " 'ImportError',\n",
       " 'ImportWarning',\n",
       " 'IndentationError',\n",
       " 'IndexError',\n",
       " 'InterruptedError',\n",
       " 'IsADirectoryError',\n",
       " 'KeyError',\n",
       " 'KeyboardInterrupt',\n",
       " 'LookupError',\n",
       " 'MemoryError',\n",
       " 'ModuleNotFoundError',\n",
       " 'NameError',\n",
       " 'None',\n",
       " 'NotADirectoryError',\n",
       " 'NotImplemented',\n",
       " 'NotImplementedError',\n",
       " 'OSError',\n",
       " 'OverflowError',\n",
       " 'PendingDeprecationWarning',\n",
       " 'PermissionError',\n",
       " 'ProcessLookupError',\n",
       " 'RecursionError',\n",
       " 'ReferenceError',\n",
       " 'ResourceWarning',\n",
       " 'RuntimeError',\n",
       " 'RuntimeWarning',\n",
       " 'StopAsyncIteration',\n",
       " 'StopIteration',\n",
       " 'SyntaxError',\n",
       " 'SyntaxWarning',\n",
       " 'SystemError',\n",
       " 'SystemExit',\n",
       " 'TabError',\n",
       " 'TimeoutError',\n",
       " 'True',\n",
       " 'TypeError',\n",
       " 'UnboundLocalError',\n",
       " 'UnicodeDecodeError',\n",
       " 'UnicodeEncodeError',\n",
       " 'UnicodeError',\n",
       " 'UnicodeTranslateError',\n",
       " 'UnicodeWarning',\n",
       " 'UserWarning',\n",
       " 'ValueError',\n",
       " 'Warning',\n",
       " 'WindowsError',\n",
       " 'ZeroDivisionError',\n",
       " '__IPYTHON__',\n",
       " '__build_class__',\n",
       " '__debug__',\n",
       " '__doc__',\n",
       " '__import__',\n",
       " '__loader__',\n",
       " '__name__',\n",
       " '__package__',\n",
       " '__spec__',\n",
       " 'abs',\n",
       " 'all',\n",
       " 'any',\n",
       " 'ascii',\n",
       " 'bin',\n",
       " 'bool',\n",
       " 'breakpoint',\n",
       " 'bytearray',\n",
       " 'bytes',\n",
       " 'callable',\n",
       " 'chr',\n",
       " 'classmethod',\n",
       " 'compile',\n",
       " 'complex',\n",
       " 'copyright',\n",
       " 'credits',\n",
       " 'delattr',\n",
       " 'dict',\n",
       " 'dir',\n",
       " 'display',\n",
       " 'divmod',\n",
       " 'enumerate',\n",
       " 'eval',\n",
       " 'exec',\n",
       " 'filter',\n",
       " 'float',\n",
       " 'format',\n",
       " 'frozenset',\n",
       " 'get_ipython',\n",
       " 'getattr',\n",
       " 'globals',\n",
       " 'hasattr',\n",
       " 'hash',\n",
       " 'help',\n",
       " 'hex',\n",
       " 'id',\n",
       " 'input',\n",
       " 'int',\n",
       " 'isinstance',\n",
       " 'issubclass',\n",
       " 'iter',\n",
       " 'len',\n",
       " 'license',\n",
       " 'list',\n",
       " 'locals',\n",
       " 'map',\n",
       " 'max',\n",
       " 'memoryview',\n",
       " 'min',\n",
       " 'next',\n",
       " 'object',\n",
       " 'oct',\n",
       " 'open',\n",
       " 'ord',\n",
       " 'pow',\n",
       " 'print',\n",
       " 'property',\n",
       " 'range',\n",
       " 'repr',\n",
       " 'reversed',\n",
       " 'round',\n",
       " 'set',\n",
       " 'setattr',\n",
       " 'slice',\n",
       " 'sorted',\n",
       " 'staticmethod',\n",
       " 'str',\n",
       " 'sum',\n",
       " 'super',\n",
       " 'tuple',\n",
       " 'type',\n",
       " 'vars',\n",
       " 'zip']"
      ]
     },
     "execution_count": 1,
     "metadata": {},
     "output_type": "execute_result"
    }
   ],
   "source": [
    "dir(__builtins__)"
   ]
  },
  {
   "cell_type": "code",
   "execution_count": 3,
   "metadata": {},
   "outputs": [],
   "source": [
    "my_list = [3, 2, 1].sort()"
   ]
  },
  {
   "cell_type": "code",
   "execution_count": 4,
   "metadata": {},
   "outputs": [
    {
     "name": "stdout",
     "output_type": "stream",
     "text": [
      "None\n"
     ]
    }
   ],
   "source": [
    "print(my_list)"
   ]
  },
  {
   "cell_type": "code",
   "execution_count": 5,
   "metadata": {},
   "outputs": [
    {
     "data": {
      "text/plain": [
       "{'__name__': '__main__',\n",
       " '__doc__': 'Automatically created module for IPython interactive environment',\n",
       " '__package__': None,\n",
       " '__loader__': None,\n",
       " '__spec__': None,\n",
       " '__builtin__': <module 'builtins' (built-in)>,\n",
       " '__builtins__': <module 'builtins' (built-in)>,\n",
       " '_ih': ['',\n",
       "  'dir(__builtins__)',\n",
       "  '[3, 2, 1].sort()',\n",
       "  'my_list = [3, 2, 1].sort()',\n",
       "  'print(my_list)',\n",
       "  'globals()'],\n",
       " '_oh': {1: ['ArithmeticError',\n",
       "   'AssertionError',\n",
       "   'AttributeError',\n",
       "   'BaseException',\n",
       "   'BlockingIOError',\n",
       "   'BrokenPipeError',\n",
       "   'BufferError',\n",
       "   'BytesWarning',\n",
       "   'ChildProcessError',\n",
       "   'ConnectionAbortedError',\n",
       "   'ConnectionError',\n",
       "   'ConnectionRefusedError',\n",
       "   'ConnectionResetError',\n",
       "   'DeprecationWarning',\n",
       "   'EOFError',\n",
       "   'Ellipsis',\n",
       "   'EnvironmentError',\n",
       "   'Exception',\n",
       "   'False',\n",
       "   'FileExistsError',\n",
       "   'FileNotFoundError',\n",
       "   'FloatingPointError',\n",
       "   'FutureWarning',\n",
       "   'GeneratorExit',\n",
       "   'IOError',\n",
       "   'ImportError',\n",
       "   'ImportWarning',\n",
       "   'IndentationError',\n",
       "   'IndexError',\n",
       "   'InterruptedError',\n",
       "   'IsADirectoryError',\n",
       "   'KeyError',\n",
       "   'KeyboardInterrupt',\n",
       "   'LookupError',\n",
       "   'MemoryError',\n",
       "   'ModuleNotFoundError',\n",
       "   'NameError',\n",
       "   'None',\n",
       "   'NotADirectoryError',\n",
       "   'NotImplemented',\n",
       "   'NotImplementedError',\n",
       "   'OSError',\n",
       "   'OverflowError',\n",
       "   'PendingDeprecationWarning',\n",
       "   'PermissionError',\n",
       "   'ProcessLookupError',\n",
       "   'RecursionError',\n",
       "   'ReferenceError',\n",
       "   'ResourceWarning',\n",
       "   'RuntimeError',\n",
       "   'RuntimeWarning',\n",
       "   'StopAsyncIteration',\n",
       "   'StopIteration',\n",
       "   'SyntaxError',\n",
       "   'SyntaxWarning',\n",
       "   'SystemError',\n",
       "   'SystemExit',\n",
       "   'TabError',\n",
       "   'TimeoutError',\n",
       "   'True',\n",
       "   'TypeError',\n",
       "   'UnboundLocalError',\n",
       "   'UnicodeDecodeError',\n",
       "   'UnicodeEncodeError',\n",
       "   'UnicodeError',\n",
       "   'UnicodeTranslateError',\n",
       "   'UnicodeWarning',\n",
       "   'UserWarning',\n",
       "   'ValueError',\n",
       "   'Warning',\n",
       "   'WindowsError',\n",
       "   'ZeroDivisionError',\n",
       "   '__IPYTHON__',\n",
       "   '__build_class__',\n",
       "   '__debug__',\n",
       "   '__doc__',\n",
       "   '__import__',\n",
       "   '__loader__',\n",
       "   '__name__',\n",
       "   '__package__',\n",
       "   '__spec__',\n",
       "   'abs',\n",
       "   'all',\n",
       "   'any',\n",
       "   'ascii',\n",
       "   'bin',\n",
       "   'bool',\n",
       "   'breakpoint',\n",
       "   'bytearray',\n",
       "   'bytes',\n",
       "   'callable',\n",
       "   'chr',\n",
       "   'classmethod',\n",
       "   'compile',\n",
       "   'complex',\n",
       "   'copyright',\n",
       "   'credits',\n",
       "   'delattr',\n",
       "   'dict',\n",
       "   'dir',\n",
       "   'display',\n",
       "   'divmod',\n",
       "   'enumerate',\n",
       "   'eval',\n",
       "   'exec',\n",
       "   'filter',\n",
       "   'float',\n",
       "   'format',\n",
       "   'frozenset',\n",
       "   'get_ipython',\n",
       "   'getattr',\n",
       "   'globals',\n",
       "   'hasattr',\n",
       "   'hash',\n",
       "   'help',\n",
       "   'hex',\n",
       "   'id',\n",
       "   'input',\n",
       "   'int',\n",
       "   'isinstance',\n",
       "   'issubclass',\n",
       "   'iter',\n",
       "   'len',\n",
       "   'license',\n",
       "   'list',\n",
       "   'locals',\n",
       "   'map',\n",
       "   'max',\n",
       "   'memoryview',\n",
       "   'min',\n",
       "   'next',\n",
       "   'object',\n",
       "   'oct',\n",
       "   'open',\n",
       "   'ord',\n",
       "   'pow',\n",
       "   'print',\n",
       "   'property',\n",
       "   'range',\n",
       "   'repr',\n",
       "   'reversed',\n",
       "   'round',\n",
       "   'set',\n",
       "   'setattr',\n",
       "   'slice',\n",
       "   'sorted',\n",
       "   'staticmethod',\n",
       "   'str',\n",
       "   'sum',\n",
       "   'super',\n",
       "   'tuple',\n",
       "   'type',\n",
       "   'vars',\n",
       "   'zip']},\n",
       " '_dh': ['C:\\\\Users\\\\student\\\\Desktop\\\\TIL\\\\python'],\n",
       " 'In': ['',\n",
       "  'dir(__builtins__)',\n",
       "  '[3, 2, 1].sort()',\n",
       "  'my_list = [3, 2, 1].sort()',\n",
       "  'print(my_list)',\n",
       "  'globals()'],\n",
       " 'Out': {1: ['ArithmeticError',\n",
       "   'AssertionError',\n",
       "   'AttributeError',\n",
       "   'BaseException',\n",
       "   'BlockingIOError',\n",
       "   'BrokenPipeError',\n",
       "   'BufferError',\n",
       "   'BytesWarning',\n",
       "   'ChildProcessError',\n",
       "   'ConnectionAbortedError',\n",
       "   'ConnectionError',\n",
       "   'ConnectionRefusedError',\n",
       "   'ConnectionResetError',\n",
       "   'DeprecationWarning',\n",
       "   'EOFError',\n",
       "   'Ellipsis',\n",
       "   'EnvironmentError',\n",
       "   'Exception',\n",
       "   'False',\n",
       "   'FileExistsError',\n",
       "   'FileNotFoundError',\n",
       "   'FloatingPointError',\n",
       "   'FutureWarning',\n",
       "   'GeneratorExit',\n",
       "   'IOError',\n",
       "   'ImportError',\n",
       "   'ImportWarning',\n",
       "   'IndentationError',\n",
       "   'IndexError',\n",
       "   'InterruptedError',\n",
       "   'IsADirectoryError',\n",
       "   'KeyError',\n",
       "   'KeyboardInterrupt',\n",
       "   'LookupError',\n",
       "   'MemoryError',\n",
       "   'ModuleNotFoundError',\n",
       "   'NameError',\n",
       "   'None',\n",
       "   'NotADirectoryError',\n",
       "   'NotImplemented',\n",
       "   'NotImplementedError',\n",
       "   'OSError',\n",
       "   'OverflowError',\n",
       "   'PendingDeprecationWarning',\n",
       "   'PermissionError',\n",
       "   'ProcessLookupError',\n",
       "   'RecursionError',\n",
       "   'ReferenceError',\n",
       "   'ResourceWarning',\n",
       "   'RuntimeError',\n",
       "   'RuntimeWarning',\n",
       "   'StopAsyncIteration',\n",
       "   'StopIteration',\n",
       "   'SyntaxError',\n",
       "   'SyntaxWarning',\n",
       "   'SystemError',\n",
       "   'SystemExit',\n",
       "   'TabError',\n",
       "   'TimeoutError',\n",
       "   'True',\n",
       "   'TypeError',\n",
       "   'UnboundLocalError',\n",
       "   'UnicodeDecodeError',\n",
       "   'UnicodeEncodeError',\n",
       "   'UnicodeError',\n",
       "   'UnicodeTranslateError',\n",
       "   'UnicodeWarning',\n",
       "   'UserWarning',\n",
       "   'ValueError',\n",
       "   'Warning',\n",
       "   'WindowsError',\n",
       "   'ZeroDivisionError',\n",
       "   '__IPYTHON__',\n",
       "   '__build_class__',\n",
       "   '__debug__',\n",
       "   '__doc__',\n",
       "   '__import__',\n",
       "   '__loader__',\n",
       "   '__name__',\n",
       "   '__package__',\n",
       "   '__spec__',\n",
       "   'abs',\n",
       "   'all',\n",
       "   'any',\n",
       "   'ascii',\n",
       "   'bin',\n",
       "   'bool',\n",
       "   'breakpoint',\n",
       "   'bytearray',\n",
       "   'bytes',\n",
       "   'callable',\n",
       "   'chr',\n",
       "   'classmethod',\n",
       "   'compile',\n",
       "   'complex',\n",
       "   'copyright',\n",
       "   'credits',\n",
       "   'delattr',\n",
       "   'dict',\n",
       "   'dir',\n",
       "   'display',\n",
       "   'divmod',\n",
       "   'enumerate',\n",
       "   'eval',\n",
       "   'exec',\n",
       "   'filter',\n",
       "   'float',\n",
       "   'format',\n",
       "   'frozenset',\n",
       "   'get_ipython',\n",
       "   'getattr',\n",
       "   'globals',\n",
       "   'hasattr',\n",
       "   'hash',\n",
       "   'help',\n",
       "   'hex',\n",
       "   'id',\n",
       "   'input',\n",
       "   'int',\n",
       "   'isinstance',\n",
       "   'issubclass',\n",
       "   'iter',\n",
       "   'len',\n",
       "   'license',\n",
       "   'list',\n",
       "   'locals',\n",
       "   'map',\n",
       "   'max',\n",
       "   'memoryview',\n",
       "   'min',\n",
       "   'next',\n",
       "   'object',\n",
       "   'oct',\n",
       "   'open',\n",
       "   'ord',\n",
       "   'pow',\n",
       "   'print',\n",
       "   'property',\n",
       "   'range',\n",
       "   'repr',\n",
       "   'reversed',\n",
       "   'round',\n",
       "   'set',\n",
       "   'setattr',\n",
       "   'slice',\n",
       "   'sorted',\n",
       "   'staticmethod',\n",
       "   'str',\n",
       "   'sum',\n",
       "   'super',\n",
       "   'tuple',\n",
       "   'type',\n",
       "   'vars',\n",
       "   'zip']},\n",
       " 'get_ipython': <bound method InteractiveShell.get_ipython of <ipykernel.zmqshell.ZMQInteractiveShell object at 0x053D47F0>>,\n",
       " 'exit': <IPython.core.autocall.ZMQExitAutocall at 0x6366ef0>,\n",
       " 'quit': <IPython.core.autocall.ZMQExitAutocall at 0x6366ef0>,\n",
       " '_': ['ArithmeticError',\n",
       "  'AssertionError',\n",
       "  'AttributeError',\n",
       "  'BaseException',\n",
       "  'BlockingIOError',\n",
       "  'BrokenPipeError',\n",
       "  'BufferError',\n",
       "  'BytesWarning',\n",
       "  'ChildProcessError',\n",
       "  'ConnectionAbortedError',\n",
       "  'ConnectionError',\n",
       "  'ConnectionRefusedError',\n",
       "  'ConnectionResetError',\n",
       "  'DeprecationWarning',\n",
       "  'EOFError',\n",
       "  'Ellipsis',\n",
       "  'EnvironmentError',\n",
       "  'Exception',\n",
       "  'False',\n",
       "  'FileExistsError',\n",
       "  'FileNotFoundError',\n",
       "  'FloatingPointError',\n",
       "  'FutureWarning',\n",
       "  'GeneratorExit',\n",
       "  'IOError',\n",
       "  'ImportError',\n",
       "  'ImportWarning',\n",
       "  'IndentationError',\n",
       "  'IndexError',\n",
       "  'InterruptedError',\n",
       "  'IsADirectoryError',\n",
       "  'KeyError',\n",
       "  'KeyboardInterrupt',\n",
       "  'LookupError',\n",
       "  'MemoryError',\n",
       "  'ModuleNotFoundError',\n",
       "  'NameError',\n",
       "  'None',\n",
       "  'NotADirectoryError',\n",
       "  'NotImplemented',\n",
       "  'NotImplementedError',\n",
       "  'OSError',\n",
       "  'OverflowError',\n",
       "  'PendingDeprecationWarning',\n",
       "  'PermissionError',\n",
       "  'ProcessLookupError',\n",
       "  'RecursionError',\n",
       "  'ReferenceError',\n",
       "  'ResourceWarning',\n",
       "  'RuntimeError',\n",
       "  'RuntimeWarning',\n",
       "  'StopAsyncIteration',\n",
       "  'StopIteration',\n",
       "  'SyntaxError',\n",
       "  'SyntaxWarning',\n",
       "  'SystemError',\n",
       "  'SystemExit',\n",
       "  'TabError',\n",
       "  'TimeoutError',\n",
       "  'True',\n",
       "  'TypeError',\n",
       "  'UnboundLocalError',\n",
       "  'UnicodeDecodeError',\n",
       "  'UnicodeEncodeError',\n",
       "  'UnicodeError',\n",
       "  'UnicodeTranslateError',\n",
       "  'UnicodeWarning',\n",
       "  'UserWarning',\n",
       "  'ValueError',\n",
       "  'Warning',\n",
       "  'WindowsError',\n",
       "  'ZeroDivisionError',\n",
       "  '__IPYTHON__',\n",
       "  '__build_class__',\n",
       "  '__debug__',\n",
       "  '__doc__',\n",
       "  '__import__',\n",
       "  '__loader__',\n",
       "  '__name__',\n",
       "  '__package__',\n",
       "  '__spec__',\n",
       "  'abs',\n",
       "  'all',\n",
       "  'any',\n",
       "  'ascii',\n",
       "  'bin',\n",
       "  'bool',\n",
       "  'breakpoint',\n",
       "  'bytearray',\n",
       "  'bytes',\n",
       "  'callable',\n",
       "  'chr',\n",
       "  'classmethod',\n",
       "  'compile',\n",
       "  'complex',\n",
       "  'copyright',\n",
       "  'credits',\n",
       "  'delattr',\n",
       "  'dict',\n",
       "  'dir',\n",
       "  'display',\n",
       "  'divmod',\n",
       "  'enumerate',\n",
       "  'eval',\n",
       "  'exec',\n",
       "  'filter',\n",
       "  'float',\n",
       "  'format',\n",
       "  'frozenset',\n",
       "  'get_ipython',\n",
       "  'getattr',\n",
       "  'globals',\n",
       "  'hasattr',\n",
       "  'hash',\n",
       "  'help',\n",
       "  'hex',\n",
       "  'id',\n",
       "  'input',\n",
       "  'int',\n",
       "  'isinstance',\n",
       "  'issubclass',\n",
       "  'iter',\n",
       "  'len',\n",
       "  'license',\n",
       "  'list',\n",
       "  'locals',\n",
       "  'map',\n",
       "  'max',\n",
       "  'memoryview',\n",
       "  'min',\n",
       "  'next',\n",
       "  'object',\n",
       "  'oct',\n",
       "  'open',\n",
       "  'ord',\n",
       "  'pow',\n",
       "  'print',\n",
       "  'property',\n",
       "  'range',\n",
       "  'repr',\n",
       "  'reversed',\n",
       "  'round',\n",
       "  'set',\n",
       "  'setattr',\n",
       "  'slice',\n",
       "  'sorted',\n",
       "  'staticmethod',\n",
       "  'str',\n",
       "  'sum',\n",
       "  'super',\n",
       "  'tuple',\n",
       "  'type',\n",
       "  'vars',\n",
       "  'zip'],\n",
       " '__': '',\n",
       " '___': '',\n",
       " '_i': 'print(my_list)',\n",
       " '_ii': 'my_list = [3, 2, 1].sort()',\n",
       " '_iii': '[3, 2, 1].sort()',\n",
       " '_i1': 'dir(__builtins__)',\n",
       " '_1': ['ArithmeticError',\n",
       "  'AssertionError',\n",
       "  'AttributeError',\n",
       "  'BaseException',\n",
       "  'BlockingIOError',\n",
       "  'BrokenPipeError',\n",
       "  'BufferError',\n",
       "  'BytesWarning',\n",
       "  'ChildProcessError',\n",
       "  'ConnectionAbortedError',\n",
       "  'ConnectionError',\n",
       "  'ConnectionRefusedError',\n",
       "  'ConnectionResetError',\n",
       "  'DeprecationWarning',\n",
       "  'EOFError',\n",
       "  'Ellipsis',\n",
       "  'EnvironmentError',\n",
       "  'Exception',\n",
       "  'False',\n",
       "  'FileExistsError',\n",
       "  'FileNotFoundError',\n",
       "  'FloatingPointError',\n",
       "  'FutureWarning',\n",
       "  'GeneratorExit',\n",
       "  'IOError',\n",
       "  'ImportError',\n",
       "  'ImportWarning',\n",
       "  'IndentationError',\n",
       "  'IndexError',\n",
       "  'InterruptedError',\n",
       "  'IsADirectoryError',\n",
       "  'KeyError',\n",
       "  'KeyboardInterrupt',\n",
       "  'LookupError',\n",
       "  'MemoryError',\n",
       "  'ModuleNotFoundError',\n",
       "  'NameError',\n",
       "  'None',\n",
       "  'NotADirectoryError',\n",
       "  'NotImplemented',\n",
       "  'NotImplementedError',\n",
       "  'OSError',\n",
       "  'OverflowError',\n",
       "  'PendingDeprecationWarning',\n",
       "  'PermissionError',\n",
       "  'ProcessLookupError',\n",
       "  'RecursionError',\n",
       "  'ReferenceError',\n",
       "  'ResourceWarning',\n",
       "  'RuntimeError',\n",
       "  'RuntimeWarning',\n",
       "  'StopAsyncIteration',\n",
       "  'StopIteration',\n",
       "  'SyntaxError',\n",
       "  'SyntaxWarning',\n",
       "  'SystemError',\n",
       "  'SystemExit',\n",
       "  'TabError',\n",
       "  'TimeoutError',\n",
       "  'True',\n",
       "  'TypeError',\n",
       "  'UnboundLocalError',\n",
       "  'UnicodeDecodeError',\n",
       "  'UnicodeEncodeError',\n",
       "  'UnicodeError',\n",
       "  'UnicodeTranslateError',\n",
       "  'UnicodeWarning',\n",
       "  'UserWarning',\n",
       "  'ValueError',\n",
       "  'Warning',\n",
       "  'WindowsError',\n",
       "  'ZeroDivisionError',\n",
       "  '__IPYTHON__',\n",
       "  '__build_class__',\n",
       "  '__debug__',\n",
       "  '__doc__',\n",
       "  '__import__',\n",
       "  '__loader__',\n",
       "  '__name__',\n",
       "  '__package__',\n",
       "  '__spec__',\n",
       "  'abs',\n",
       "  'all',\n",
       "  'any',\n",
       "  'ascii',\n",
       "  'bin',\n",
       "  'bool',\n",
       "  'breakpoint',\n",
       "  'bytearray',\n",
       "  'bytes',\n",
       "  'callable',\n",
       "  'chr',\n",
       "  'classmethod',\n",
       "  'compile',\n",
       "  'complex',\n",
       "  'copyright',\n",
       "  'credits',\n",
       "  'delattr',\n",
       "  'dict',\n",
       "  'dir',\n",
       "  'display',\n",
       "  'divmod',\n",
       "  'enumerate',\n",
       "  'eval',\n",
       "  'exec',\n",
       "  'filter',\n",
       "  'float',\n",
       "  'format',\n",
       "  'frozenset',\n",
       "  'get_ipython',\n",
       "  'getattr',\n",
       "  'globals',\n",
       "  'hasattr',\n",
       "  'hash',\n",
       "  'help',\n",
       "  'hex',\n",
       "  'id',\n",
       "  'input',\n",
       "  'int',\n",
       "  'isinstance',\n",
       "  'issubclass',\n",
       "  'iter',\n",
       "  'len',\n",
       "  'license',\n",
       "  'list',\n",
       "  'locals',\n",
       "  'map',\n",
       "  'max',\n",
       "  'memoryview',\n",
       "  'min',\n",
       "  'next',\n",
       "  'object',\n",
       "  'oct',\n",
       "  'open',\n",
       "  'ord',\n",
       "  'pow',\n",
       "  'print',\n",
       "  'property',\n",
       "  'range',\n",
       "  'repr',\n",
       "  'reversed',\n",
       "  'round',\n",
       "  'set',\n",
       "  'setattr',\n",
       "  'slice',\n",
       "  'sorted',\n",
       "  'staticmethod',\n",
       "  'str',\n",
       "  'sum',\n",
       "  'super',\n",
       "  'tuple',\n",
       "  'type',\n",
       "  'vars',\n",
       "  'zip'],\n",
       " '_i2': '[3, 2, 1].sort()',\n",
       " '_i3': 'my_list = [3, 2, 1].sort()',\n",
       " 'my_list': None,\n",
       " '_i4': 'print(my_list)',\n",
       " '_i5': 'globals()'}"
      ]
     },
     "execution_count": 5,
     "metadata": {},
     "output_type": "execute_result"
    }
   ],
   "source": [
    "globals()"
   ]
  },
  {
   "cell_type": "code",
   "execution_count": null,
   "metadata": {},
   "outputs": [],
   "source": [
    "def my_sqrt(n):\n",
    "    a, b = 1, n\n",
    "    result = 1\n",
    "    while abs(result**2 - n) >= 1e-10:\n",
    "        result = (a+b)/2\n",
    "        if result**2 < n:\n",
    "            a = result\n",
    "        else:\n",
    "            b = result\n",
    "    return result\n",
    "print(my_sqrt(16))\n",
    "\n",
    "# 1 < 루트2 < 2(4) -> 1.5 (2.25)\n",
    "# 1 < 루트2 < 1.5(2.25) -> 1.25 (1.5625)\n",
    "# 1.25(1.5625) < 루트2 < 1.5(2.25) -> 1.375 (1.89)\n",
    "# 1.375(1.890625) < 루트2 < 1.5(2.25) -> 1.4375 (2.06)\n",
    "# 1.375(1.890625) < 루트2 < 1.4375(2.0664) -> 1.40625 (1.97)"
   ]
  },
  {
   "cell_type": "code",
   "execution_count": null,
   "metadata": {},
   "outputs": [],
   "source": []
  },
  {
   "cell_type": "code",
   "execution_count": null,
   "metadata": {},
   "outputs": [],
   "source": []
  },
  {
   "cell_type": "code",
   "execution_count": null,
   "metadata": {},
   "outputs": [],
   "source": []
  },
  {
   "cell_type": "code",
   "execution_count": null,
   "metadata": {},
   "outputs": [],
   "source": []
  },
  {
   "cell_type": "code",
   "execution_count": null,
   "metadata": {},
   "outputs": [],
   "source": []
  }
 ],
 "metadata": {
  "kernelspec": {
   "display_name": "Python 3",
   "language": "python",
   "name": "python3"
  },
  "language_info": {
   "codemirror_mode": {
    "name": "ipython",
    "version": 3
   },
   "file_extension": ".py",
   "mimetype": "text/x-python",
   "name": "python",
   "nbconvert_exporter": "python",
   "pygments_lexer": "ipython3",
   "version": "3.7.3"
  },
  "toc": {
   "base_numbering": 1,
   "nav_menu": {},
   "number_sections": true,
   "sideBar": true,
   "skip_h1_title": false,
   "title_cell": "Table of Contents",
   "title_sidebar": "Contents",
   "toc_cell": false,
   "toc_position": {},
   "toc_section_display": true,
   "toc_window_display": false
  }
 },
 "nbformat": 4,
 "nbformat_minor": 2
}
