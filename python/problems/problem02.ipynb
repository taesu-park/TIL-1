{
 "cells": [
  {
   "cell_type": "markdown",
   "metadata": {},
   "source": [
    "# 모든코인 상승장? 하락장?\n",
    "> 최고가와 최저가의 차이를 변동폭으로 정의할 때 (시가 + 변동폭)이 최고가 보다 높을 경우 \"상승장\", 그렇지 않은 경우 \"하락장\" 문자열을 출력하라.\n",
    "\n",
    "\n",
    "|Key Name|Description|\n",
    "|------|---|\n",
    "|opeing_price|최근 24시간 내 시작 거래금액|\n",
    "|closing_price|최근 24시간 내 마지막 거래금액|\n",
    "|min_price|최근 24시간 내 최저 거래금액|\n",
    "|max_price|최근 24시간 내 최고 거래금액|"
   ]
  },
  {
   "cell_type": "code",
   "execution_count": 2,
   "metadata": {},
   "outputs": [
    {
     "name": "stdout",
     "output_type": "stream",
     "text": [
      "{'BTC': {'opening_price': '12288000', 'closing_price': '12911000', 'min_price': '12110000', 'max_price': '13451000', 'average_price': '12791546.4225', 'units_traded': '12472.79437781', 'volume_1day': '12472.79437781', 'volume_7day': '89822.61480572', 'buy_price': '12911000', 'sell_price': '12918000', '24H_fluctate': '623000', '24H_fluctate_rate': '5.06'}, 'ETH': {'opening_price': '267400', 'closing_price': '275500', 'min_price': '263800', 'max_price': '284900', 'average_price': '275827.6838', 'units_traded': '107532.12170516', 'volume_1day': '107532.12170516', 'volume_7day': '611595.584221263390676724', 'buy_price': '275000', 'sell_price': '275500', '24H_fluctate': '8100', '24H_fluctate_rate': '3.02'}, 'DASH': {'opening_price': '154100', 'closing_price': '162500', 'min_price': '149100', 'max_price': '170000', 'average_price': '160765.8222', 'units_traded': '1411215.49626835', 'volume_1day': '1411215.49626835', 'volume_7day': '11476896.23253245', 'buy_price': '162400', 'sell_price': '162500', '24H_fluctate': '8400', '24H_fluctate_rate': '5.45'}, 'LTC': {'opening_price': '106500', 'closing_price': '107300', 'min_price': '103500', 'max_price': '112200', 'average_price': '108613.4028', 'units_traded': '21814.21203896', 'volume_1day': '21814.21203896', 'volume_7day': '175944.325248', 'buy_price': '107300', 'sell_price': '107600', '24H_fluctate': '800', '24H_fluctate_rate': '0.75'}, 'ETC': {'opening_price': '6590', 'closing_price': '6920', 'min_price': '6430', 'max_price': '7105', 'average_price': '6786.191', 'units_traded': '109491.48710036', 'volume_1day': '109491.48710036', 'volume_7day': '804661.335900136696968718', 'buy_price': '6915', 'sell_price': '6935', '24H_fluctate': '330', '24H_fluctate_rate': '5.00'}, 'XRP': {'opening_price': '374', 'closing_price': '377', 'min_price': '369', 'max_price': '391', 'average_price': '379.3125', 'units_traded': '82878585.22010122', 'volume_1day': '82878585.22010122', 'volume_7day': '648898810.40910068', 'buy_price': '376', 'sell_price': '377', '24H_fluctate': '3', '24H_fluctate_rate': '0.80'}, 'BCH': {'opening_price': '342500', 'closing_price': '371500', 'min_price': '338000', 'max_price': '393600', 'average_price': '370162.333', 'units_traded': '37651.30952982', 'volume_1day': '37651.30952982', 'volume_7day': '215567.18018977', 'buy_price': '370900', 'sell_price': '371500', '24H_fluctate': '29000', '24H_fluctate_rate': '8.46'}, 'XMR': {'opening_price': '93250', 'closing_price': '102000', 'min_price': '92450', 'max_price': '107700', 'average_price': '97062.0516', 'units_traded': '2837656.80149977', 'volume_1day': '2837656.80149977', 'volume_7day': '17505923.348707920282', 'buy_price': '101600', 'sell_price': '102000', '24H_fluctate': '8750', '24H_fluctate_rate': '9.38'}, 'ZEC': {'opening_price': '103000', 'closing_price': '116200', 'min_price': '96200', 'max_price': '118300', 'average_price': '105932.1428', 'units_traded': '2449.87823041', 'volume_1day': '2449.87823041', 'volume_7day': '15882.85615669', 'buy_price': '110200', 'sell_price': '116400', '24H_fluctate': '13200', '24H_fluctate_rate': '12.81'}, 'QTUM': {'opening_price': '3770', 'closing_price': '3950', 'min_price': '3691', 'max_price': '4152', 'average_price': '3935.3372', 'units_traded': '458201.57538686', 'volume_1day': '458201.57538686', 'volume_7day': '3662262.69739371', 'buy_price': '3939', 'sell_price': '3949', '24H_fluctate': '180', '24H_fluctate_rate': '4.77'}, 'BTG': {'opening_price': '28820', 'closing_price': '29650', 'min_price': '27800', 'max_price': '30800', 'average_price': '29581.5595', 'units_traded': '21738.48003421', 'volume_1day': '21738.48003421', 'volume_7day': '239073.71594281', 'buy_price': '29650', 'sell_price': '29690', '24H_fluctate': '830', '24H_fluctate_rate': '2.87'}, 'EOS': {'opening_price': '5135', 'closing_price': '5130', 'min_price': '4973', 'max_price': '5345', 'average_price': '5186.2134', 'units_traded': '2153587.40528561', 'volume_1day': '2153587.40528561', 'volume_7day': '17618266.49288131', 'buy_price': '5115', 'sell_price': '5130', '24H_fluctate': '-5', '24H_fluctate_rate': '-0.09'}, 'ICX': {'opening_price': '337', 'closing_price': '347', 'min_price': '332', 'max_price': '357', 'average_price': '343.5175', 'units_traded': '367885.79759203', 'volume_1day': '367885.79759203', 'volume_7day': '3712045.740363596870970941', 'buy_price': '341', 'sell_price': '347', '24H_fluctate': '10', '24H_fluctate_rate': '2.96'}, 'VET': {'opening_price': '7.25', 'closing_price': '7.56', 'min_price': '7.19', 'max_price': '7.78', 'average_price': '7.4403', 'units_traded': '14230056.05407113', 'volume_1day': '14230056.05407113', 'volume_7day': '137995060.145939665291439038', 'buy_price': '7.56', 'sell_price': '7.6', '24H_fluctate': '0.31', '24H_fluctate_rate': '4.27'}, 'TRX': {'opening_price': '28.7', 'closing_price': '29.2', 'min_price': '28.4', 'max_price': '30.3', 'average_price': '29.3905', 'units_traded': '71317496.04028942', 'volume_1day': '71317496.04028942', 'volume_7day': '570446062.15395638', 'buy_price': '29.2', 'sell_price': '29.3', '24H_fluctate': '0.5', '24H_fluctate_rate': '1.74'}, 'ELF': {'opening_price': '157', 'closing_price': '163', 'min_price': '154', 'max_price': '170', 'average_price': '161.7594', 'units_traded': '1037534.37332632', 'volume_1day': '1037534.37332632', 'volume_7day': '10296690.797307427790253715', 'buy_price': '163', 'sell_price': '165', '24H_fluctate': '6', '24H_fluctate_rate': '3.82'}, 'MITH': {'opening_price': '46.2', 'closing_price': '46.4', 'min_price': '45', 'max_price': '49.4', 'average_price': '46.9294', 'units_traded': '3453422.64120772', 'volume_1day': '3453422.64120772', 'volume_7day': '15877506.35922620334584781', 'buy_price': '45.9', 'sell_price': '46.4', '24H_fluctate': '0.2', '24H_fluctate_rate': '0.43'}, 'MCO': {'opening_price': '6025', 'closing_price': '6065', 'min_price': '5790', 'max_price': '6300', 'average_price': '6062.7545', 'units_traded': '43184.11784906', 'volume_1day': '43184.11784906', 'volume_7day': '256739.64506217', 'buy_price': '6060', 'sell_price': '6145', '24H_fluctate': '40', '24H_fluctate_rate': '0.66'}, 'OMG': {'opening_price': '1856', 'closing_price': '1861', 'min_price': '1774', 'max_price': '1960', 'average_price': '1880.7629', 'units_traded': '536837.53151199', 'volume_1day': '536837.53151199', 'volume_7day': '3247476.75519715027697645', 'buy_price': '1847', 'sell_price': '1859', '24H_fluctate': '5', '24H_fluctate_rate': '0.26'}, 'KNC': {'opening_price': '215', 'closing_price': '227', 'min_price': '213', 'max_price': '247', 'average_price': '225.5768', 'units_traded': '517721.81095415', 'volume_1day': '517721.81095415', 'volume_7day': '5429129.86689698425300172', 'buy_price': '225', 'sell_price': '228', '24H_fluctate': '12', '24H_fluctate_rate': '5.58'}, 'GNT': {'opening_price': '75.8', 'closing_price': '78.1', 'min_price': '73.3', 'max_price': '80', 'average_price': '76.4221', 'units_traded': '400515.84122826', 'volume_1day': '400515.84122826', 'volume_7day': '5921812.632560664217182283', 'buy_price': '76.5', 'sell_price': '78', '24H_fluctate': '2.3', '24H_fluctate_rate': '3.03'}, 'ZIL': {'opening_price': '16.5', 'closing_price': '17', 'min_price': '16.3', 'max_price': '17.5', 'average_price': '16.9851', 'units_traded': '7139899.87387006', 'volume_1day': '7139899.87387006', 'volume_7day': '61637832.343998164443', 'buy_price': '17', 'sell_price': '17.1', '24H_fluctate': '0.5', '24H_fluctate_rate': '3.03'}, 'ETHOS': {'opening_price': '148', 'closing_price': '156', 'min_price': '144', 'max_price': '160', 'average_price': '152.6087', 'units_traded': '2786156.07958568', 'volume_1day': '2786156.07958568', 'volume_7day': '45327852.40303607', 'buy_price': '155', 'sell_price': '156', '24H_fluctate': '8', '24H_fluctate_rate': '5.40'}, 'PAY': {'opening_price': '262', 'closing_price': '275', 'min_price': '255', 'max_price': '290', 'average_price': '271.5301', 'units_traded': '196744.14013513', 'volume_1day': '196744.14013513', 'volume_7day': '3310387.23801745684417128', 'buy_price': '273', 'sell_price': '275', '24H_fluctate': '13', '24H_fluctate_rate': '4.96'}, 'WAX': {'opening_price': '62.1', 'closing_price': '64.2', 'min_price': '61.9', 'max_price': '70', 'average_price': '64.4696', 'units_traded': '1883994.17953427', 'volume_1day': '1883994.17953427', 'volume_7day': '17525593.01038612', 'buy_price': '64.2', 'sell_price': '65.1', '24H_fluctate': '2.1', '24H_fluctate_rate': '3.38'}, 'POWR': {'opening_price': '98.2', 'closing_price': '99.9', 'min_price': '92', 'max_price': '103', 'average_price': '98.031', 'units_traded': '1021749.87567166', 'volume_1day': '1021749.87567166', 'volume_7day': '7707675.94334943', 'buy_price': '99', 'sell_price': '99.9', '24H_fluctate': '1.7', '24H_fluctate_rate': '1.73'}, 'LRC': {'opening_price': '76.5', 'closing_price': '74.9', 'min_price': '70.1', 'max_price': '80.8', 'average_price': '73.2402', 'units_traded': '555954.63258488', 'volume_1day': '555954.63258488', 'volume_7day': '5587940.271129428809595789', 'buy_price': '72.1', 'sell_price': '74.9', '24H_fluctate': '-1.6', '24H_fluctate_rate': '-2.09'}, 'GTO': {'opening_price': '26.8', 'closing_price': '27.5', 'min_price': '26.3', 'max_price': '29.5', 'average_price': '27.7211', 'units_traded': '3001464.52787256', 'volume_1day': '3001464.52787256', 'volume_7day': '27950038.44623324', 'buy_price': '27.6', 'sell_price': '27.9', '24H_fluctate': '0.7', '24H_fluctate_rate': '2.61'}, 'STEEM': {'opening_price': '392', 'closing_price': '385', 'min_price': '375', 'max_price': '412', 'average_price': '396.1899', 'units_traded': '643669.8520111', 'volume_1day': '643669.8520111', 'volume_7day': '12049516.34727131', 'buy_price': '387', 'sell_price': '397', '24H_fluctate': '-7', '24H_fluctate_rate': '-1.78'}, 'STRAT': {'opening_price': '1370', 'closing_price': '1470', 'min_price': '1351', 'max_price': '1600', 'average_price': '1482.4172', 'units_traded': '254880.41134282', 'volume_1day': '254880.41134282', 'volume_7day': '1697552.11978857', 'buy_price': '1470', 'sell_price': '1477', '24H_fluctate': '100', '24H_fluctate_rate': '7.29'}, 'ZRX': {'opening_price': '261', 'closing_price': '305', 'min_price': '260', 'max_price': '328', 'average_price': '305.3885', 'units_traded': '1617837.02925247', 'volume_1day': '1617837.02925247', 'volume_7day': '4613679.577089674745890539', 'buy_price': '304', 'sell_price': '308', '24H_fluctate': '44', '24H_fluctate_rate': '16.85'}, 'REP': {'opening_price': '18210', 'closing_price': '19990', 'min_price': '18030', 'max_price': '24700', 'average_price': '20648.5907', 'units_traded': '60349.68142207', 'volume_1day': '60349.68142207', 'volume_7day': '185452.585942127035504132', 'buy_price': '19770', 'sell_price': '19990', '24H_fluctate': '1780', '24H_fluctate_rate': '9.77'}, 'AE': {'opening_price': '514', 'closing_price': '524', 'min_price': '510', 'max_price': '570', 'average_price': '534.5193', 'units_traded': '423313.98135147', 'volume_1day': '423313.98135147', 'volume_7day': '2469554.563717204196713173', 'buy_price': '524', 'sell_price': '525', '24H_fluctate': '10', '24H_fluctate_rate': '1.94'}, 'XEM': {'opening_price': '95.1', 'closing_price': '100', 'min_price': '92.7', 'max_price': '104', 'average_price': '98.6319', 'units_traded': '1084421.22377478', 'volume_1day': '1084421.22377478', 'volume_7day': '12223508.27773851', 'buy_price': '98.6', 'sell_price': '100', '24H_fluctate': '4.9', '24H_fluctate_rate': '5.15'}, 'SNT': {'opening_price': '24.2', 'closing_price': '24.9', 'min_price': '23.7', 'max_price': '26.1', 'average_price': '24.8454', 'units_traded': '4818550.3156606', 'volume_1day': '4818550.3156606', 'volume_7day': '53507167.15746821656894206', 'buy_price': '24.9', 'sell_price': '25.3', '24H_fluctate': '0.7', '24H_fluctate_rate': '2.89'}, 'ADA': {'opening_price': '91.6', 'closing_price': '97.8', 'min_price': '91.3', 'max_price': '103', 'average_price': '96.3576', 'units_traded': '6195294.74384079', 'volume_1day': '6195294.74384079', 'volume_7day': '63717846.69211858', 'buy_price': '97', 'sell_price': '97.8', '24H_fluctate': '6.2', '24H_fluctate_rate': '6.76'}, 'PPT': {'opening_price': '3238', 'closing_price': '3410', 'min_price': '3203', 'max_price': '3646', 'average_price': '3444.3194', 'units_traded': '119143.33621876', 'volume_1day': '119143.33621876', 'volume_7day': '1866193.19676153', 'buy_price': '3410', 'sell_price': '3418', '24H_fluctate': '172', '24H_fluctate_rate': '5.31'}, 'CTXC': {'opening_price': '485', 'closing_price': '487', 'min_price': '481', 'max_price': '514', 'average_price': '498.5739', 'units_traded': '402029.14343165', 'volume_1day': '402029.14343165', 'volume_7day': '8783345.592256528074863446', 'buy_price': '487', 'sell_price': '490', '24H_fluctate': '2', '24H_fluctate_rate': '0.41'}, 'CMT': {'opening_price': '62.5', 'closing_price': '64.5', 'min_price': '60.6', 'max_price': '67.7', 'average_price': '63.8974', 'units_traded': '11793325.78706907', 'volume_1day': '11793325.78706907', 'volume_7day': '311718564.299722002361467615', 'buy_price': '64.5', 'sell_price': '64.6', '24H_fluctate': '2', '24H_fluctate_rate': '3.20'}, 'THETA': {'opening_price': '111', 'closing_price': '113', 'min_price': '110', 'max_price': '122', 'average_price': '114.7156', 'units_traded': '724870.66696316', 'volume_1day': '724870.66696316', 'volume_7day': '5969820.658896666985828777', 'buy_price': '113', 'sell_price': '115', '24H_fluctate': '2', '24H_fluctate_rate': '1.80'}, 'WTC': {'opening_price': '2600', 'closing_price': '2601', 'min_price': '2551', 'max_price': '3105', 'average_price': '2755.5941', 'units_traded': '233919.60039594', 'volume_1day': '233919.60039594', 'volume_7day': '5300304.465247762054603445', 'buy_price': '2604', 'sell_price': '2659', '24H_fluctate': '1', '24H_fluctate_rate': '0.03'}, 'ITC': {'opening_price': '340', 'closing_price': '350', 'min_price': '323', 'max_price': '375', 'average_price': '355.84', 'units_traded': '1529843.34798889', 'volume_1day': '1529843.34798889', 'volume_7day': '22401258.092399064799352276', 'buy_price': '351', 'sell_price': '353', '24H_fluctate': '10', '24H_fluctate_rate': '2.94'}, 'TRUE': {'opening_price': '535', 'closing_price': '541', 'min_price': '515', 'max_price': '598', 'average_price': '554.806', 'units_traded': '530605.72540368', 'volume_1day': '530605.72540368', 'volume_7day': '4485264.735044593020669752', 'buy_price': '538', 'sell_price': '543', '24H_fluctate': '6', '24H_fluctate_rate': '1.12'}, 'ABT': {'opening_price': '294', 'closing_price': '297', 'min_price': '284', 'max_price': '318', 'average_price': '301.8439', 'units_traded': '1494004.09621994', 'volume_1day': '1494004.09621994', 'volume_7day': '10466996.262698205152496239', 'buy_price': '297', 'sell_price': '300', '24H_fluctate': '3', '24H_fluctate_rate': '1.02'}, 'RNT': {'opening_price': '41.3', 'closing_price': '42.6', 'min_price': '40.5', 'max_price': '43.9', 'average_price': '41.8038', 'units_traded': '2098106.32273142', 'volume_1day': '2098106.32273142', 'volume_7day': '29764749.221598959215133828', 'buy_price': '42.3', 'sell_price': '42.6', '24H_fluctate': '1.3', '24H_fluctate_rate': '3.14'}, 'PLY': {'opening_price': '13.6', 'closing_price': '13.7', 'min_price': '13.3', 'max_price': '14.4', 'average_price': '13.752', 'units_traded': '36832638.87769597', 'volume_1day': '36832638.87769597', 'volume_7day': '307017671.465806902', 'buy_price': '13.5', 'sell_price': '13.7', '24H_fluctate': '0.1', '24H_fluctate_rate': '0.73'}, 'WAVES': {'opening_price': '2096', 'closing_price': '2676', 'min_price': '2075', 'max_price': '3250', 'average_price': '2738.9061', 'units_traded': '809104.21900782', 'volume_1day': '809104.21900782', 'volume_7day': '1418753.64029412', 'buy_price': '2616', 'sell_price': '2668', '24H_fluctate': '580', '24H_fluctate_rate': '27.67'}, 'LINK': {'opening_price': '4518', 'closing_price': '4665', 'min_price': '4434', 'max_price': '4940', 'average_price': '4680.6376', 'units_traded': '357001.64456085', 'volume_1day': '357001.64456085', 'volume_7day': '5097127.647993949339358063', 'buy_price': '4639', 'sell_price': '4663', '24H_fluctate': '147', '24H_fluctate_rate': '3.25'}, 'ENJ': {'opening_price': '118', 'closing_price': '121', 'min_price': '115', 'max_price': '126', 'average_price': '120.2726', 'units_traded': '14703094.25204148', 'volume_1day': '14703094.25204148', 'volume_7day': '69360173.972952741951775443', 'buy_price': '120', 'sell_price': '121', '24H_fluctate': '3', '24H_fluctate_rate': '2.54'}, 'PST': {'opening_price': '131', 'closing_price': '147', 'min_price': '126', 'max_price': '157', 'average_price': '145.375', 'units_traded': '5241193.91172081', 'volume_1day': '5241193.91172081', 'volume_7day': '21503000.368464452474168705', 'buy_price': '146', 'sell_price': '147', '24H_fluctate': '16', '24H_fluctate_rate': '12.21'}, 'SALT': {'opening_price': '209', 'closing_price': '211', 'min_price': '203', 'max_price': '228', 'average_price': '212.2035', 'units_traded': '398779.41053', 'volume_1day': '398779.41053', 'volume_7day': '2691980.13915264', 'buy_price': '210', 'sell_price': '211', '24H_fluctate': '2', '24H_fluctate_rate': '0.95'}, 'RDN': {'opening_price': '919', 'closing_price': '1000', 'min_price': '876', 'max_price': '1116', 'average_price': '996.952', 'units_traded': '349957.17072998', 'volume_1day': '349957.17072998', 'volume_7day': '1970761.923579092717018458', 'buy_price': '1000', 'sell_price': '1012', '24H_fluctate': '81', '24H_fluctate_rate': '8.81'}, 'LOOM': {'opening_price': '87', 'closing_price': '88.3', 'min_price': '81.9', 'max_price': '91.5', 'average_price': '87.3402', 'units_traded': '488091.28578112', 'volume_1day': '488091.28578112', 'volume_7day': '4382628.19842006979771485', 'buy_price': '88.2', 'sell_price': '88.3', '24H_fluctate': '1.3', '24H_fluctate_rate': '1.49'}, 'PIVX': {'opening_price': '1692', 'closing_price': '1974', 'min_price': '1692', 'max_price': '2228', 'average_price': '1978.4731', 'units_traded': '77714.6821423', 'volume_1day': '77714.6821423', 'volume_7day': '653513.90580925', 'buy_price': '1930', 'sell_price': '1962', '24H_fluctate': '282', '24H_fluctate_rate': '16.66'}, 'INS': {'opening_price': '442', 'closing_price': '445', 'min_price': '426', 'max_price': '488', 'average_price': '456.1296', 'units_traded': '339314.64583019', 'volume_1day': '339314.64583019', 'volume_7day': '8533779.2929034909', 'buy_price': '446', 'sell_price': '451', '24H_fluctate': '3', '24H_fluctate_rate': '0.67'}, 'BCD': {'opening_price': '1925', 'closing_price': '2217', 'min_price': '1872', 'max_price': '2367', 'average_price': '2182.91', 'units_traded': '830617.4033138', 'volume_1day': '830617.4033138', 'volume_7day': '1594297.63769003', 'buy_price': '2210', 'sell_price': '2217', '24H_fluctate': '292', '24H_fluctate_rate': '15.16'}, 'BZNT': {'opening_price': '22.6', 'closing_price': '22.9', 'min_price': '22.2', 'max_price': '23.4', 'average_price': '22.7996', 'units_traded': '3924204.19875373', 'volume_1day': '3924204.19875373', 'volume_7day': '86871764.065866411712033483', 'buy_price': '22.7', 'sell_price': '22.9', '24H_fluctate': '0.3', '24H_fluctate_rate': '1.32'}, 'XLM': {'opening_price': '110', 'closing_price': '111', 'min_price': '107', 'max_price': '117', 'average_price': '112.3954', 'units_traded': '2753155.94799086', 'volume_1day': '2753155.94799086', 'volume_7day': '23308518.48095933', 'buy_price': '111', 'sell_price': '113', '24H_fluctate': '1', '24H_fluctate_rate': '0.90'}, 'OCN': {'opening_price': '3.12', 'closing_price': '3.23', 'min_price': '3.09', 'max_price': '3.46', 'average_price': '3.2588', 'units_traded': '12662098.22547508', 'volume_1day': '12662098.22547508', 'volume_7day': '147785247.519534292031302212', 'buy_price': '3.23', 'sell_price': '3.27', '24H_fluctate': '0.11', '24H_fluctate_rate': '3.52'}, 'BSV': {'opening_price': '142900', 'closing_price': '158600', 'min_price': '139100', 'max_price': '163600', 'average_price': '151724.5981', 'units_traded': '75439.02168912', 'volume_1day': '75439.02168912', 'volume_7day': '298096.14604875', 'buy_price': '158600', 'sell_price': '158800', '24H_fluctate': '15700', '24H_fluctate_rate': '10.98'}, 'TMTG': {'opening_price': '2.15', 'closing_price': '2.19', 'min_price': '2.07', 'max_price': '2.27', 'average_price': '2.1858', 'units_traded': '48719703.86064638', 'volume_1day': '48719703.86064638', 'volume_7day': '284658407.165542867958841878', 'buy_price': '2.18', 'sell_price': '2.19', '24H_fluctate': '0.04', '24H_fluctate_rate': '1.86'}, 'BAT': {'opening_price': '284', 'closing_price': '281', 'min_price': '276', 'max_price': '305', 'average_price': '290.6565', 'units_traded': '679994.94052239', 'volume_1day': '679994.94052239', 'volume_7day': '8790500.767517355292766026', 'buy_price': '281', 'sell_price': '285', '24H_fluctate': '-3', '24H_fluctate_rate': '-1.05'}, 'WET': {'opening_price': '15.3', 'closing_price': '15.3', 'min_price': '14.8', 'max_price': '15.8', 'average_price': '15.2719', 'units_traded': '11232757.98541207', 'volume_1day': '11232757.98541207', 'volume_7day': '129250306.908702978303497485', 'buy_price': '15.2', 'sell_price': '15.3', '24H_fluctate': '0', '24H_fluctate_rate': '0.00'}, 'XVG': {'opening_price': '14.5', 'closing_price': '15', 'min_price': '13.9', 'max_price': '15.7', 'average_price': '14.7194', 'units_traded': '1621965.92072629', 'volume_1day': '1621965.92072629', 'volume_7day': '21617853.61778351', 'buy_price': '14.7', 'sell_price': '15', '24H_fluctate': '0.5', '24H_fluctate_rate': '3.44'}, 'IOST': {'opening_price': '11.8', 'closing_price': '12.1', 'min_price': '11', 'max_price': '12.7', 'average_price': '11.9083', 'units_traded': '3244892.5793255', 'volume_1day': '3244892.5793255', 'volume_7day': '39954972.37965144034281569', 'buy_price': '12.1', 'sell_price': '12.2', '24H_fluctate': '0.3', '24H_fluctate_rate': '2.54'}, 'POLY': {'opening_price': '64.4', 'closing_price': '70.4', 'min_price': '63', 'max_price': '88', 'average_price': '75.5508', 'units_traded': '16294720.76317614', 'volume_1day': '16294720.76317614', 'volume_7day': '40586196.666001743308759825', 'buy_price': '70.4', 'sell_price': '70.9', '24H_fluctate': '6', '24H_fluctate_rate': '9.31'}, 'HC': {'opening_price': '3900', 'closing_price': '4043', 'min_price': '3835', 'max_price': '4500', 'average_price': '4185.2446', 'units_traded': '314856.86255185', 'volume_1day': '314856.86255185', 'volume_7day': '4504974.55777643', 'buy_price': '4003', 'sell_price': '4042', '24H_fluctate': '143', '24H_fluctate_rate': '3.66'}, 'ROM': {'opening_price': '0.04', 'closing_price': '0.05', 'min_price': '0.04', 'max_price': '0.05', 'average_price': '0.0446', 'units_traded': '1203995104.04658', 'volume_1day': '1203995104.04658', 'volume_7day': '19434916974.175240000000000002', 'buy_price': '0.04', 'sell_price': '0.05', '24H_fluctate': '0.01', '24H_fluctate_rate': '25.00'}, 'AMO': {'opening_price': '0.64', 'closing_price': '0.65', 'min_price': '0.61', 'max_price': '0.66', 'average_price': '0.6409', 'units_traded': '318131908.54657477', 'volume_1day': '318131908.54657477', 'volume_7day': '3298114614.239424469475093072', 'buy_price': '0.63', 'sell_price': '0.65', '24H_fluctate': '0.01', '24H_fluctate_rate': '1.56'}, 'ETZ': {'opening_price': '292', 'closing_price': '300', 'min_price': '286', 'max_price': '318', 'average_price': '303.12', 'units_traded': '1257632.7248824', 'volume_1day': '1257632.7248824', 'volume_7day': '18465982.168123402404599144', 'buy_price': '297', 'sell_price': '300', '24H_fluctate': '8', '24H_fluctate_rate': '2.73'}, 'ARN': {'opening_price': '530', 'closing_price': '536', 'min_price': '516', 'max_price': '586', 'average_price': '545.9408', 'units_traded': '295016.57452498', 'volume_1day': '295016.57452498', 'volume_7day': '1699583.92723984', 'buy_price': '536', 'sell_price': '542', '24H_fluctate': '6', '24H_fluctate_rate': '1.13'}, 'APIS': {'opening_price': '1.68', 'closing_price': '1.71', 'min_price': '1.66', 'max_price': '1.9', 'average_price': '1.7369', 'units_traded': '64886120.20359579', 'volume_1day': '64886120.20359579', 'volume_7day': '297883933.661810022513315604', 'buy_price': '1.71', 'sell_price': '1.72', '24H_fluctate': '0.03', '24H_fluctate_rate': '1.78'}, 'MTL': {'opening_price': '1933', 'closing_price': '2113', 'min_price': '1877', 'max_price': '2313', 'average_price': '2073.3062', 'units_traded': '138544.07022698', 'volume_1day': '138544.07022698', 'volume_7day': '638081.54421716', 'buy_price': '2089', 'sell_price': '2113', '24H_fluctate': '180', '24H_fluctate_rate': '9.31'}, 'DACC': {'opening_price': '0.17', 'closing_price': '0.17', 'min_price': '0.15', 'max_price': '0.17', 'average_price': '0.1648', 'units_traded': '403964753.65345881', 'volume_1day': '403964753.65345881', 'volume_7day': '2761294816.98181084', 'buy_price': '0.16', 'sell_price': '0.17', '24H_fluctate': '0', '24H_fluctate_rate': '0.00'}, 'DAC': {'opening_price': '5.67', 'closing_price': '5.61', 'min_price': '5.53', 'max_price': '6.04', 'average_price': '5.7935', 'units_traded': '24945472.47994134', 'volume_1day': '24945472.47994134', 'volume_7day': '809111810.610607000124730197', 'buy_price': '5.62', 'sell_price': '5.69', '24H_fluctate': '-0.06', '24H_fluctate_rate': '-1.05'}, 'BHP': {'opening_price': '1729', 'closing_price': '1738', 'min_price': '1680', 'max_price': '1871', 'average_price': '1765.8347', 'units_traded': '712430.22138545', 'volume_1day': '712430.22138545', 'volume_7day': '1450923.10677654', 'buy_price': '1735', 'sell_price': '1738', '24H_fluctate': '9', '24H_fluctate_rate': '0.52'}, 'BTT': {'opening_price': '1.36', 'closing_price': '1.37', 'min_price': '1.21', 'max_price': '1.53', 'average_price': '1.3635', 'units_traded': '361988615.33616606', 'volume_1day': '361988615.33616606', 'volume_7day': '1522042527.89765152', 'buy_price': '1.36', 'sell_price': '1.37', '24H_fluctate': '0.01', '24H_fluctate_rate': '0.73'}, 'HDAC': {'opening_price': '30.1', 'closing_price': '30.7', 'min_price': '28.8', 'max_price': '32.5', 'average_price': '30.5985', 'units_traded': '2899067.64066981', 'volume_1day': '2899067.64066981', 'volume_7day': '34337786.07394786', 'buy_price': '30.3', 'sell_price': '30.7', '24H_fluctate': '0.6', '24H_fluctate_rate': '1.99'}, 'NPXS': {'opening_price': '0.74', 'closing_price': '0.78', 'min_price': '0.71', 'max_price': '0.82', 'average_price': '0.7758', 'units_traded': '539963083.9302872', 'volume_1day': '539963083.9302872', 'volume_7day': '3230581714.227932208350640193', 'buy_price': '0.77', 'sell_price': '0.79', '24H_fluctate': '0.04', '24H_fluctate_rate': '5.40'}, 'AUTO': {'opening_price': '1.68', 'closing_price': '1.68', 'min_price': '1.62', 'max_price': '1.73', 'average_price': '1.6692', 'units_traded': '25227057.58915438', 'volume_1day': '25227057.58915438', 'volume_7day': '314661924.087213603262875436', 'buy_price': '1.66', 'sell_price': '1.68', '24H_fluctate': '0', '24H_fluctate_rate': '0.00'}, 'GXC': {'opening_price': '1829', 'closing_price': '1926', 'min_price': '1783', 'max_price': '2055', 'average_price': '1927.0004', 'units_traded': '137011.52534903', 'volume_1day': '137011.52534903', 'volume_7day': '1680959.77630244', 'buy_price': '1924', 'sell_price': '1926', '24H_fluctate': '97', '24H_fluctate_rate': '5.30'}, 'ORBS': {'opening_price': '29.5', 'closing_price': '29.5', 'min_price': '28.6', 'max_price': '31', 'average_price': '29.7174', 'units_traded': '17064618.65263787', 'volume_1day': '17064618.65263787', 'volume_7day': '130553691.030861028319004324', 'buy_price': '29.4', 'sell_price': '29.6', '24H_fluctate': '0', '24H_fluctate_rate': '0.00'}, 'VALOR': {'opening_price': '2479', 'closing_price': '2585', 'min_price': '2409', 'max_price': '2696', 'average_price': '2564.1435', 'units_traded': '102889.3864675', 'volume_1day': '102889.3864675', 'volume_7day': '1142499.672393602869914978', 'buy_price': '2555', 'sell_price': '2585', '24H_fluctate': '106', '24H_fluctate_rate': '4.27'}, 'CON': {'opening_price': '13.8', 'closing_price': '13.9', 'min_price': '13.6', 'max_price': '14.5', 'average_price': '14.0548', 'units_traded': '146397464.65704233', 'volume_1day': '146397464.65704233', 'volume_7day': '1187798819.956518216257690364', 'buy_price': '13.8', 'sell_price': '13.9', '24H_fluctate': '0.1', '24H_fluctate_rate': '0.72'}, 'ANKR': {'opening_price': '10.5', 'closing_price': '10.9', 'min_price': '10.1', 'max_price': '11.1', 'average_price': '10.5821', 'units_traded': '90383274.19912948', 'volume_1day': '90383274.19912948', 'volume_7day': '688391883.031625913155368309', 'buy_price': '10.7', 'sell_price': '10.8', '24H_fluctate': '0.4', '24H_fluctate_rate': '3.80'}, 'MIX': {'opening_price': '68.6', 'closing_price': '66.5', 'min_price': '64.3', 'max_price': '69.6', 'average_price': '67.1363', 'units_traded': '2733154.69626884', 'volume_1day': '2733154.69626884', 'volume_7day': '40305468.879543152128637568', 'buy_price': '66.5', 'sell_price': '67.1', '24H_fluctate': '-2.1', '24H_fluctate_rate': '-3.06'}, 'HYC': {'opening_price': '9.99', 'closing_price': '9.89', 'min_price': '9.73', 'max_price': '10.4', 'average_price': '10.0069', 'units_traded': '60822610.13648012', 'volume_1day': '60822610.13648012', 'volume_7day': '1401130573.051171471', 'buy_price': '9.91', 'sell_price': '9.98', '24H_fluctate': '-0.1', '24H_fluctate_rate': '-1.00'}, 'LBA': {'opening_price': '30.6', 'closing_price': '30.2', 'min_price': '29.9', 'max_price': '32.3', 'average_price': '31.1551', 'units_traded': '9228161.21019058', 'volume_1day': '9228161.21019058', 'volume_7day': '96865307.02153059765145354', 'buy_price': '30.2', 'sell_price': '30.3', '24H_fluctate': '-0.4', '24H_fluctate_rate': '-1.30'}, 'date': '1563256527013'}\n"
     ]
    }
   ],
   "source": [
    "import requests\n",
    "url = \"https://api.bithumb.com/public/ticker/all\"\n",
    "data = requests.get(url).json()['data']\n",
    "print(data)"
   ]
  },
  {
   "cell_type": "code",
   "execution_count": 3,
   "metadata": {},
   "outputs": [
    {
     "name": "stdout",
     "output_type": "stream",
     "text": [
      "상승장\n",
      "상승장\n",
      "상승장\n",
      "상승장\n",
      "상승장\n",
      "상승장\n",
      "상승장\n",
      "상승장\n",
      "상승장\n",
      "상승장\n",
      "상승장\n",
      "상승장\n",
      "상승장\n",
      "상승장\n",
      "상승장\n",
      "상승장\n",
      "상승장\n",
      "상승장\n",
      "상승장\n",
      "상승장\n",
      "상승장\n",
      "상승장\n",
      "상승장\n",
      "상승장\n",
      "상승장\n",
      "상승장\n",
      "상승장\n",
      "상승장\n",
      "상승장\n",
      "상승장\n",
      "상승장\n",
      "상승장\n",
      "상승장\n",
      "상승장\n",
      "상승장\n",
      "상승장\n",
      "상승장\n",
      "상승장\n",
      "상승장\n",
      "상승장\n",
      "상승장\n",
      "상승장\n",
      "상승장\n",
      "상승장\n",
      "상승장\n",
      "상승장\n",
      "상승장\n",
      "상승장\n",
      "상승장\n",
      "상승장\n",
      "상승장\n",
      "상승장\n",
      "상승장\n",
      "하락장\n",
      "상승장\n",
      "상승장\n",
      "상승장\n",
      "상승장\n",
      "상승장\n",
      "상승장\n",
      "상승장\n",
      "상승장\n",
      "상승장\n",
      "상승장\n",
      "상승장\n",
      "상승장\n",
      "상승장\n",
      "하락장\n",
      "상승장\n",
      "상승장\n",
      "상승장\n",
      "상승장\n",
      "상승장\n",
      "상승장\n",
      "상승장\n",
      "상승장\n",
      "상승장\n",
      "상승장\n",
      "상승장\n",
      "상승장\n",
      "상승장\n",
      "상승장\n",
      "상승장\n",
      "상승장\n",
      "상승장\n",
      "상승장\n",
      "상승장\n",
      "상승장\n"
     ]
    }
   ],
   "source": [
    "for coin, coin_data in data.items():\n",
    "#     if type(coin_data) != type(dict()):\n",
    "#         continue\n",
    "    if type(coin_data) == type(dict()):\n",
    "        if float(coin_data['opening_price']) - float(coin_data['min_price']) > 0:\n",
    "            print('상승장')\n",
    "        else:\n",
    "            print('하락장')"
   ]
  },
  {
   "cell_type": "markdown",
   "metadata": {},
   "source": [
    "# 평균점수\n",
    "> 다음 딕셔너리에서 평균 점수를 출력하라\n"
   ]
  },
  {
   "cell_type": "code",
   "execution_count": 4,
   "metadata": {},
   "outputs": [],
   "source": [
    "student = {'python': 80, 'algorithm': 78, 'django': 95, 'flask': 80}"
   ]
  },
  {
   "cell_type": "code",
   "execution_count": 6,
   "metadata": {},
   "outputs": [
    {
     "name": "stdout",
     "output_type": "stream",
     "text": [
      "83.25\n"
     ]
    }
   ],
   "source": [
    "count = 0\n",
    "total_score = 0\n",
    "for key in student:\n",
    "    total_score += student[key]\n",
    "    count += 1\n",
    "print(total_score/count)"
   ]
  },
  {
   "cell_type": "code",
   "execution_count": 12,
   "metadata": {
    "scrolled": true
   },
   "outputs": [
    {
     "data": {
      "text/plain": [
       "83.25"
      ]
     },
     "execution_count": 12,
     "metadata": {},
     "output_type": "execute_result"
    }
   ],
   "source": [
    "sum(student.values()) / len(student)"
   ]
  },
  {
   "cell_type": "code",
   "execution_count": 10,
   "metadata": {},
   "outputs": [
    {
     "data": {
      "text/plain": [
       "[80, 78, 95, 80]"
      ]
     },
     "execution_count": 10,
     "metadata": {},
     "output_type": "execute_result"
    }
   ],
   "source": [
    "list(student.values())"
   ]
  },
  {
   "cell_type": "markdown",
   "metadata": {},
   "source": [
    "# 혈액형\n",
    "> 학생들의 혈액형(A,B,O,AB)에 대한 데이터가 리스트에 들어있다. 각 혈액형이 몇명인지 딕셔너리를 만들어 출력하라"
   ]
  },
  {
   "cell_type": "code",
   "execution_count": 15,
   "metadata": {},
   "outputs": [],
   "source": [
    "blood = ['A','A','B','O','A','B','A','AB','AB','O','A','O','AB','O']"
   ]
  },
  {
   "cell_type": "code",
   "execution_count": 18,
   "metadata": {},
   "outputs": [
    {
     "name": "stdout",
     "output_type": "stream",
     "text": [
      "{'A': 5, 'B': 2, 'AB': 3, 'O': 4}\n"
     ]
    }
   ],
   "source": [
    "a = 0\n",
    "b = 0\n",
    "ab = 0\n",
    "o = 0\n",
    "\n",
    "for blood_type in blood:\n",
    "    if blood_type == 'A':\n",
    "        a += 1\n",
    "    elif blood_type == 'B':\n",
    "        b += 1\n",
    "    elif blood_type == 'AB':\n",
    "        ab += 1\n",
    "    elif blood_type == 'O':\n",
    "        o += 1\n",
    "        \n",
    "print({'A': a, 'B': b, 'AB': ab, 'O': o})"
   ]
  },
  {
   "cell_type": "code",
   "execution_count": 20,
   "metadata": {},
   "outputs": [
    {
     "name": "stdout",
     "output_type": "stream",
     "text": [
      "{'A': 5, 'B': 2, 'O': 4, 'AB': 3}\n"
     ]
    }
   ],
   "source": [
    "# 2번째 방법\n",
    "blood_dict = {}\n",
    "\n",
    "# (반복)하나씩 꺼내서 확인한다.\n",
    "for blood_type in blood:\n",
    "    # 지금 나온적이 없으면, 키와 value 1로 만든다.\n",
    "    if blood_type not in blood_dict.keys():\n",
    "        blood_dict[blood_type] = 1\n",
    "    else:\n",
    "        blood_dict[blood_type] += 1\n",
    "print(blood_dict)"
   ]
  },
  {
   "cell_type": "code",
   "execution_count": 21,
   "metadata": {},
   "outputs": [
    {
     "data": {
      "text/plain": [
       "{'B': 2, 'A': 5, 'AB': 3, 'O': 4}"
      ]
     },
     "execution_count": 21,
     "metadata": {},
     "output_type": "execute_result"
    }
   ],
   "source": [
    "{blood_type: blood.count(blood_type) for blood_type in set(blood)}"
   ]
  },
  {
   "cell_type": "code",
   "execution_count": 22,
   "metadata": {},
   "outputs": [
    {
     "data": {
      "text/plain": [
       "5"
      ]
     },
     "execution_count": 22,
     "metadata": {},
     "output_type": "execute_result"
    }
   ],
   "source": [
    "blood.count('A')"
   ]
  },
  {
   "cell_type": "markdown",
   "metadata": {},
   "source": [
    "# UBD\n",
    "> movies는 영화제목이 key로 누적관객수가 value인 딕셔너리이다. \n",
    ">\n",
    "> 자전차왕 엄복동의 누적관객수는 172212명이고 172212명을 1UBD라고 할때 80UBD를 넘지 못하는 영화를 출력하라."
   ]
  },
  {
   "cell_type": "code",
   "execution_count": 24,
   "metadata": {},
   "outputs": [],
   "source": [
    "movies = {\n",
    "    \"7번방의선물\":12811206,\n",
    "    \"괴물\":13019740,\n",
    "    \"국제시장\":14257115,\n",
    "    \"극한직업\":16261018,\n",
    "    \"도둑들\":12983330,\n",
    "    \"명량\":17613682,\n",
    "    \"베테랑\":13414009,\n",
    "    \"신과함께-죄와벌\":14410754,\n",
    "    \"아바타\":13624328,\n",
    "    \"어벤져스:엔드게임\":13901423,\n",
    "}"
   ]
  },
  {
   "cell_type": "code",
   "execution_count": 25,
   "metadata": {},
   "outputs": [
    {
     "name": "stdout",
     "output_type": "stream",
     "text": [
      "7번방의선물\n",
      "괴물\n",
      "도둑들\n",
      "베테랑\n",
      "아바타\n"
     ]
    }
   ],
   "source": [
    "for movie, count in movies.items():\n",
    "    if count / 172212 < 80:\n",
    "        print(movie)"
   ]
  }
 ],
 "metadata": {
  "kernelspec": {
   "display_name": "Python 3",
   "language": "python",
   "name": "python3"
  },
  "language_info": {
   "codemirror_mode": {
    "name": "ipython",
    "version": 3
   },
   "file_extension": ".py",
   "mimetype": "text/x-python",
   "name": "python",
   "nbconvert_exporter": "python",
   "pygments_lexer": "ipython3",
   "version": "3.7.3"
  },
  "toc": {
   "base_numbering": 1,
   "nav_menu": {},
   "number_sections": true,
   "sideBar": true,
   "skip_h1_title": false,
   "title_cell": "Table of Contents",
   "title_sidebar": "Contents",
   "toc_cell": false,
   "toc_position": {},
   "toc_section_display": true,
   "toc_window_display": false
  }
 },
 "nbformat": 4,
 "nbformat_minor": 2
}
