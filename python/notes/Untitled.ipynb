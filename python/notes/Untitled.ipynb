{
 "cells": [
  {
   "cell_type": "code",
   "execution_count": null,
   "metadata": {},
   "outputs": [],
   "source": [
    "a = [1, 2, 3]\n",
    "\n",
    "a[0] = 2\n",
    "\n",
    "print(a)\n",
    "\n",
    "a = '123'\n",
    "\n",
    "a.replace('1', '')\n",
    "\n",
    "print(a)\n",
    "\n",
    "range(1, 45)[0]\n",
    "\n",
    "(1, 2)[0]\n",
    "\n",
    "my_set = {1, 2, 3}\n",
    "\n",
    "id(my_set)\n",
    "\n",
    "my_set.update('3')\n",
    "\n",
    "id(my_set)\n",
    "\n",
    "my_set\n",
    "\n",
    "my_list = [1, 2, 3]\n",
    "\n",
    "id(my_list)\n",
    "\n",
    "my_list.append(4)\n",
    "\n",
    "my_list\n",
    "\n",
    "id(my_list)\n",
    "\n",
    "my_str = 'asdf'\n",
    "\n",
    "id(my_str)\n",
    "\n",
    "my_str = my_str + 'f'\n",
    "\n",
    "id(my_str)\n",
    "\n",
    "my_str"
   ]
  },
  {
   "cell_type": "code",
   "execution_count": null,
   "metadata": {},
   "outputs": [],
   "source": []
  }
 ],
 "metadata": {
  "kernelspec": {
   "display_name": "Python 3",
   "language": "python",
   "name": "python3"
  },
  "language_info": {
   "codemirror_mode": {
    "name": "ipython",
    "version": 3
   },
   "file_extension": ".py",
   "mimetype": "text/x-python",
   "name": "python",
   "nbconvert_exporter": "python",
   "pygments_lexer": "ipython3",
   "version": "3.7.3"
  },
  "toc": {
   "base_numbering": 1,
   "nav_menu": {},
   "number_sections": true,
   "sideBar": true,
   "skip_h1_title": false,
   "title_cell": "Table of Contents",
   "title_sidebar": "Contents",
   "toc_cell": false,
   "toc_position": {},
   "toc_section_display": true,
   "toc_window_display": false
  }
 },
 "nbformat": 4,
 "nbformat_minor": 2
}
